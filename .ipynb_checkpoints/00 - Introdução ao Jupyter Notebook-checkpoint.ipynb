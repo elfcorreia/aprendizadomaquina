{
 "cells": [
  {
   "cell_type": "markdown",
   "metadata": {
    "colab_type": "text",
    "id": "5BjDmyB2ldOl"
   },
   "source": [
    "# Introdução ao Jupyter Notebook\n",
    "\n",
    "**Autores:** Artur Ziviani, Fábio Custódio, Fabio Porto, Luiz Gadelha, Yania M. Souto, **Emerson Lima**"
   ]
  },
  {
   "cell_type": "markdown",
   "metadata": {
    "colab_type": "text",
    "id": "2EfLhUgJldOr"
   },
   "source": [
    "O _Jupyter Notebook_ é uma aplicação web que permite criar e compartilhar documentos dinâmicos que contêm código, equações, visualizações e texto narrativo. Este _Notebook_ tem o objetivo de introduzir esse ambiente para os alunos da disciplina GB500 - Aprendizado de Máquina do programa de Pós-Graduação em Modelagem Computacional no Inverno de 2019."
   ]
  },
  {
   "cell_type": "markdown",
   "metadata": {
    "colab_type": "text",
    "id": "uvjfsU3pldOt"
   },
   "source": [
    "## Preparando o seu ambiente de trabalho"
   ]
  },
  {
   "cell_type": "markdown",
   "metadata": {
    "colab_type": "text",
    "id": "lrukPWxrldOw"
   },
   "source": [
    "1. Instale o Python em sua máquina\n",
    "    \n",
    "    a. Para distribuições GNU/Linux baseadas em Debian\n",
    "    ```bash\n",
    "    apt install python python-pip\n",
    "    ```\n",
    "    b. Para distribuições GNU/Linux baseadas em Fedora\n",
    "    ```bash\n",
    "    yum install python python-pip (verificar)\n",
    "    ```\n",
    "\n",
    "2. Instale alguns pacotes\n",
    "    ```bash    \n",
    "    pip install numpy pandas matplotlib sklearn\n",
    "    ```\n",
    "    \n",
    "2. Instale IPython e Jupyter:\n",
    "    ```bash    \n",
    "    pip install --upgrade ipython jupyter\n",
    "    ```\n",
    "\n",
    "3. Inicie o notebook no diretório do tutorial:\n",
    "    ```bashh\n",
    "    cd gb500-ml\n",
    "    jupyter notebook\n",
    "    ```"
   ]
  },
  {
   "cell_type": "markdown",
   "metadata": {
    "colab_type": "text",
    "id": "Xy67sD7pldO1"
   },
   "source": [
    "## Execute algum código python"
   ]
  },
  {
   "cell_type": "markdown",
   "metadata": {
    "colab_type": "text",
    "id": "vDsuAvCpldO3"
   },
   "source": [
    "Clique na célula abaixo para selecioná-la. Com ela você pode:\n",
    "\n",
    "1. Editar o conteúdo da mesma\n",
    "2. Pressionar SHIFT+ENTER para executar o código"
   ]
  },
  {
   "cell_type": "code",
   "execution_count": 0,
   "metadata": {
    "colab": {},
    "colab_type": "code",
    "id": "MjJCTGMUldO6",
    "outputId": "baf946e7-4e5c-4862-c2e5-80256e4dff8b"
   },
   "outputs": [
    {
     "data": {
      "text/plain": [
       "array([[ 0.37230389,  0.87710038],\n",
       "       [ 0.59728618,  0.10468382]])"
      ]
     },
     "execution_count": 12,
     "metadata": {
      "tags": []
     },
     "output_type": "execute_result"
    }
   ],
   "source": [
    "import numpy as np\n",
    "\n",
    "np.random.rand(2, 2)"
   ]
  },
  {
   "cell_type": "markdown",
   "metadata": {
    "colab_type": "text",
    "id": "Bes_TWWMldPF"
   },
   "source": [
    "## Escopo de variáveis"
   ]
  },
  {
   "cell_type": "markdown",
   "metadata": {
    "colab_type": "text",
    "id": "uYZvlveLldPI"
   },
   "source": [
    "As variáveis declaradas possuem um escopo global, sendo acessíveis por outras células do notebook. Por exemplo, a variável `aleatorio` definido a seguir:"
   ]
  },
  {
   "cell_type": "code",
   "execution_count": 0,
   "metadata": {
    "colab": {},
    "colab_type": "code",
    "id": "bFWVAy5zldPK"
   },
   "outputs": [],
   "source": [
    "aleatorio = np.random.rand(100, 100)"
   ]
  },
  {
   "cell_type": "markdown",
   "metadata": {
    "colab_type": "text",
    "id": "-3veL_acldPR"
   },
   "source": [
    "A variável `aleatorio` foi definida e inicializada no `kernel` do notebook e deve estar acessível à outras células"
   ]
  },
  {
   "cell_type": "code",
   "execution_count": 0,
   "metadata": {
    "colab": {},
    "colab_type": "code",
    "id": "ujapD48fldPT",
    "outputId": "22ad6cef-011a-42d3-ba43-953d05ef8dff"
   },
   "outputs": [
    {
     "data": {
      "text/plain": [
       "array([[ 0.53156794,  0.21076335,  0.94093061, ...,  0.36111143,\n",
       "         0.65378244,  0.51576746],\n",
       "       [ 0.06824698,  0.2002524 ,  0.19499914, ...,  0.35622145,\n",
       "         0.46308916,  0.87964741],\n",
       "       [ 0.21105074,  0.67317026,  0.42642479, ...,  0.46902595,\n",
       "         0.275779  ,  0.03385419],\n",
       "       ..., \n",
       "       [ 0.49608077,  0.16302021,  0.75247173, ...,  0.11426786,\n",
       "         0.60472633,  0.83459382],\n",
       "       [ 0.3080509 ,  0.95194944,  0.83843993, ...,  0.14213655,\n",
       "         0.88471352,  0.921673  ],\n",
       "       [ 0.5135061 ,  0.86313182,  0.74868975, ...,  0.51216397,\n",
       "         0.01391197,  0.02557843]])"
      ]
     },
     "execution_count": 16,
     "metadata": {
      "tags": []
     },
     "output_type": "execute_result"
    }
   ],
   "source": [
    "aleatorio"
   ]
  },
  {
   "cell_type": "markdown",
   "metadata": {
    "colab_type": "text",
    "id": "SQWb04jqldPb"
   },
   "source": [
    "<div class=\"alert alert-block alert-warning\">\n",
    "<b>ATENÇÃO</b>\n",
    "Observe a ordem de execução das células que é indicada pelo número entre colchetes à esquerda de cada célula.\n",
    "</div>"
   ]
  },
  {
   "cell_type": "markdown",
   "metadata": {
    "colab_type": "text",
    "id": "2ajiOyiRldPd"
   },
   "source": [
    "## Mágicas"
   ]
  },
  {
   "cell_type": "markdown",
   "metadata": {
    "colab_type": "text",
    "id": "I6L2b7g3ldPe"
   },
   "source": [
    "Algumas \"mágicas\" estão disponíveis nos _Notebooks_. Elas começam com `%` e podem ser vistas com `%lsmagics`"
   ]
  },
  {
   "cell_type": "code",
   "execution_count": 0,
   "metadata": {
    "colab": {},
    "colab_type": "code",
    "id": "O3Q6VN70ldPf",
    "outputId": "55e3ed2b-b06b-431b-88a1-8f5d6f7464a9"
   },
   "outputs": [
    {
     "data": {
      "application/json": {
       "cell": {
        "!": "OSMagics",
        "HTML": "Other",
        "SVG": "Other",
        "bash": "Other",
        "capture": "ExecutionMagics",
        "debug": "ExecutionMagics",
        "file": "Other",
        "html": "DisplayMagics",
        "javascript": "DisplayMagics",
        "js": "DisplayMagics",
        "latex": "DisplayMagics",
        "perl": "Other",
        "prun": "ExecutionMagics",
        "pypy": "Other",
        "python": "Other",
        "python2": "Other",
        "python3": "Other",
        "ruby": "Other",
        "script": "ScriptMagics",
        "sh": "Other",
        "svg": "DisplayMagics",
        "sx": "OSMagics",
        "system": "OSMagics",
        "time": "ExecutionMagics",
        "timeit": "ExecutionMagics",
        "writefile": "OSMagics"
       },
       "line": {
        "alias": "OSMagics",
        "alias_magic": "BasicMagics",
        "autocall": "AutoMagics",
        "automagic": "AutoMagics",
        "autosave": "KernelMagics",
        "bookmark": "OSMagics",
        "cat": "Other",
        "cd": "OSMagics",
        "clear": "KernelMagics",
        "colors": "BasicMagics",
        "config": "ConfigMagics",
        "connect_info": "KernelMagics",
        "cp": "Other",
        "debug": "ExecutionMagics",
        "dhist": "OSMagics",
        "dirs": "OSMagics",
        "doctest_mode": "BasicMagics",
        "ed": "Other",
        "edit": "KernelMagics",
        "env": "OSMagics",
        "gui": "BasicMagics",
        "hist": "Other",
        "history": "HistoryMagics",
        "killbgscripts": "ScriptMagics",
        "ldir": "Other",
        "less": "KernelMagics",
        "lf": "Other",
        "lk": "Other",
        "ll": "Other",
        "load": "CodeMagics",
        "load_ext": "ExtensionMagics",
        "loadpy": "CodeMagics",
        "logoff": "LoggingMagics",
        "logon": "LoggingMagics",
        "logstart": "LoggingMagics",
        "logstate": "LoggingMagics",
        "logstop": "LoggingMagics",
        "ls": "Other",
        "lsmagic": "BasicMagics",
        "lx": "Other",
        "macro": "ExecutionMagics",
        "magic": "BasicMagics",
        "man": "KernelMagics",
        "matplotlib": "PylabMagics",
        "mkdir": "Other",
        "more": "KernelMagics",
        "mv": "Other",
        "notebook": "BasicMagics",
        "page": "BasicMagics",
        "pastebin": "CodeMagics",
        "pdb": "ExecutionMagics",
        "pdef": "NamespaceMagics",
        "pdoc": "NamespaceMagics",
        "pfile": "NamespaceMagics",
        "pinfo": "NamespaceMagics",
        "pinfo2": "NamespaceMagics",
        "popd": "OSMagics",
        "pprint": "BasicMagics",
        "precision": "BasicMagics",
        "profile": "BasicMagics",
        "prun": "ExecutionMagics",
        "psearch": "NamespaceMagics",
        "psource": "NamespaceMagics",
        "pushd": "OSMagics",
        "pwd": "OSMagics",
        "pycat": "OSMagics",
        "pylab": "PylabMagics",
        "qtconsole": "KernelMagics",
        "quickref": "BasicMagics",
        "recall": "HistoryMagics",
        "rehashx": "OSMagics",
        "reload_ext": "ExtensionMagics",
        "rep": "Other",
        "rerun": "HistoryMagics",
        "reset": "NamespaceMagics",
        "reset_selective": "NamespaceMagics",
        "rm": "Other",
        "rmdir": "Other",
        "run": "ExecutionMagics",
        "save": "CodeMagics",
        "sc": "OSMagics",
        "set_env": "OSMagics",
        "store": "StoreMagics",
        "sx": "OSMagics",
        "system": "OSMagics",
        "tb": "ExecutionMagics",
        "time": "ExecutionMagics",
        "timeit": "ExecutionMagics",
        "unalias": "OSMagics",
        "unload_ext": "ExtensionMagics",
        "who": "NamespaceMagics",
        "who_ls": "NamespaceMagics",
        "whos": "NamespaceMagics",
        "xdel": "NamespaceMagics",
        "xmode": "BasicMagics"
       }
      },
      "text/plain": [
       "Available line magics:\n",
       "%alias  %alias_magic  %autocall  %automagic  %autosave  %bookmark  %cat  %cd  %clear  %colors  %config  %connect_info  %cp  %debug  %dhist  %dirs  %doctest_mode  %ed  %edit  %env  %gui  %hist  %history  %killbgscripts  %ldir  %less  %lf  %lk  %ll  %load  %load_ext  %loadpy  %logoff  %logon  %logstart  %logstate  %logstop  %ls  %lsmagic  %lx  %macro  %magic  %man  %matplotlib  %mkdir  %more  %mv  %notebook  %page  %pastebin  %pdb  %pdef  %pdoc  %pfile  %pinfo  %pinfo2  %popd  %pprint  %precision  %profile  %prun  %psearch  %psource  %pushd  %pwd  %pycat  %pylab  %qtconsole  %quickref  %recall  %rehashx  %reload_ext  %rep  %rerun  %reset  %reset_selective  %rm  %rmdir  %run  %save  %sc  %set_env  %store  %sx  %system  %tb  %time  %timeit  %unalias  %unload_ext  %who  %who_ls  %whos  %xdel  %xmode\n",
       "\n",
       "Available cell magics:\n",
       "%%!  %%HTML  %%SVG  %%bash  %%capture  %%debug  %%file  %%html  %%javascript  %%js  %%latex  %%perl  %%prun  %%pypy  %%python  %%python2  %%python3  %%ruby  %%script  %%sh  %%svg  %%sx  %%system  %%time  %%timeit  %%writefile\n",
       "\n",
       "Automagic is ON, % prefix IS NOT needed for line magics."
      ]
     },
     "execution_count": 22,
     "metadata": {
      "tags": []
     },
     "output_type": "execute_result"
    }
   ],
   "source": [
    "%lsmagic"
   ]
  },
  {
   "cell_type": "markdown",
   "metadata": {
    "colab_type": "text",
    "id": "NGy-sebmldPo"
   },
   "source": [
    "A principal \"mágica\" que usaremos é a `%matplotlib inline` para visualizarmos os gráficos produzidos pela biblioteca matplotlib no próprio _Notebook_"
   ]
  },
  {
   "cell_type": "code",
   "execution_count": 0,
   "metadata": {
    "colab": {},
    "colab_type": "code",
    "id": "kWIS9M2QldPq",
    "outputId": "6568a874-1855-4d19-8dd3-f750279d37d6"
   },
   "outputs": [
    {
     "data": {
      "text/plain": [
       "<matplotlib.image.AxesImage at 0x7f02d36fa790>"
      ]
     },
     "execution_count": 25,
     "metadata": {
      "tags": []
     },
     "output_type": "execute_result"
    },
    {
     "data": {
      "image/png": "[encoded data removed]",
      "text/plain": [
       "<matplotlib.figure.Figure at 0x7f02d3791310>"
      ]
     },
     "metadata": {
      "tags": []
     },
     "output_type": "display_data"
    }
   ],
   "source": [
    "%matplotlib inline\n",
    "import matplotlib.pyplot as plt\n",
    "\n",
    "plt.imshow(aleatorio)"
   ]
  },
  {
   "cell_type": "markdown",
   "metadata": {
    "colab_type": "text",
    "id": "U_VMLRLWldPz"
   },
   "source": [
    "## Acessando o terminal"
   ]
  },
  {
   "cell_type": "markdown",
   "metadata": {
    "colab_type": "text",
    "id": "l_wLcZ9MldP0"
   },
   "source": [
    "Ainda é possível acessar o terminal a partir de um _Notebook_ usando a syntaxe '!comando'. Vejamos um exemplo:"
   ]
  },
  {
   "cell_type": "code",
   "execution_count": 1,
   "metadata": {
    "colab": {
     "base_uri": "https://localhost:8080/",
     "height": 34
    },
    "colab_type": "code",
    "executionInfo": {
     "elapsed": 2538,
     "status": "ok",
     "timestamp": 1561566018564,
     "user": {
      "displayName": "Emerson Lima",
      "photoUrl": "https://lh3.googleusercontent.com/-v2MbTgmeteg/AAAAAAAAAAI/AAAAAAAAABc/IJN8hvfDAq4/s64/photo.jpg",
      "userId": "12536608979897287482"
     },
     "user_tz": 180
    },
    "id": "tmO6nSN-ldP2",
    "outputId": "ccb218a3-c14c-4af6-9fb6-2e0b447f5007"
   },
   "outputs": [
    {
     "name": "stdout",
     "output_type": "stream",
     "text": [
      "/content\n"
     ]
    }
   ],
   "source": [
    "!pwd"
   ]
  },
  {
   "cell_type": "code",
   "execution_count": 2,
   "metadata": {
    "colab": {
     "base_uri": "https://localhost:8080/",
     "height": 52
    },
    "colab_type": "code",
    "executionInfo": {
     "elapsed": 2760,
     "status": "ok",
     "timestamp": 1561566030811,
     "user": {
      "displayName": "Emerson Lima",
      "photoUrl": "https://lh3.googleusercontent.com/-v2MbTgmeteg/AAAAAAAAAAI/AAAAAAAAABc/IJN8hvfDAq4/s64/photo.jpg",
      "userId": "12536608979897287482"
     },
     "user_tz": 180
    },
    "id": "aFJmZKzEldP9",
    "outputId": "fc4abc85-5795-4f3a-ceb7-747558b179d1"
   },
   "outputs": [
    {
     "name": "stdout",
     "output_type": "stream",
     "text": [
      "127.0.0.1\tlocalhost\n",
      "::1\tlocalhost ip6-localhost ip6-loopback\n"
     ]
    }
   ],
   "source": [
    "!head -n 2 /etc/hosts"
   ]
  },
  {
   "cell_type": "markdown",
   "metadata": {
    "colab_type": "text",
    "id": "by5wNY4xldQD"
   },
   "source": [
    "## Conclusão"
   ]
  },
  {
   "cell_type": "markdown",
   "metadata": {
    "colab_type": "text",
    "id": "9nxsCi5LldQG"
   },
   "source": [
    "O _Notebook_ é um excelente ambiente para experimentação e permite que esse processo de exploração seja organizado de maneira bonita. Contudo há quem critique esse modelo de _Scratch Pad_. Deixamos aqui o endereço de um post do Yihui Xie, um engenheiro do RStudio, onde ele fala sobre notebooks: https://yihui.name/en/2018/09/notebook-war/."
   ]
  },
  {
   "cell_type": "code",
   "execution_count": 0,
   "metadata": {
    "colab": {},
    "colab_type": "code",
    "id": "cRgfFGIKldQG"
   },
   "outputs": [],
   "source": []
  }
 ],
 "metadata": {
  "colab": {
   "name": "Introdução ao Jupyter Notebook.ipynb",
   "provenance": [],
   "version": "0.3.2"
  },
  "kernelspec": {
   "display_name": "Python 3",
   "language": "python",
   "name": "python3"
  },
  "language_info": {
   "codemirror_mode": {
    "name": "ipython",
    "version": 3
   },
   "file_extension": ".py",
   "mimetype": "text/x-python",
   "name": "python",
   "nbconvert_exporter": "python",
   "pygments_lexer": "ipython3",
   "version": "3.7.3"
  }
 },
 "nbformat": 4,
 "nbformat_minor": 1
}
